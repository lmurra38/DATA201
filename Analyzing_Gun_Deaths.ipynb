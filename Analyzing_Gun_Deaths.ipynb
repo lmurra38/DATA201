{
 "cells": [
  {
   "cell_type": "markdown",
   "metadata": {},
   "source": [
    "# Analyzing Gun Deaths in the US: 2013\n",
    "### by Lucy Murray"
   ]
  },
  {
   "cell_type": "markdown",
   "metadata": {},
   "source": [
    "# 1. Introduction\n",
    "\n",
    "This is cleaned CDC data about [Gun Deaths in America](https://www.kaggle.com/hakabuk/gun-deaths-in-the-us). For this project, I am interested in further cleaning the data, subsetting the dataframe, and selecting specific features. I will use this information to show graphs using the Matplotlib package. And finally, I will use nonparametric inference using bootstrap simulation.\n",
    "\n",
    "Because this is a large dataset with over 10,000 entries, I decided to limit my analysis to guns deaths in the United States during the year 2013. This year also appears to contain the most rows. For this project, I posed the following questions:\n",
    "1. What is the freuqency of gun deaths by intent and race in 2013?\n",
    "2. What is the distribution of ages of gun deaths in 2013?\n",
    "3. What is the distribution of ages of gun deaths by race and age in 2013? "
   ]
  },
  {
   "cell_type": "code",
   "execution_count": 47,
   "metadata": {
    "scrolled": false
   },
   "outputs": [],
   "source": [
    "# install pandas_profiling package\n",
    "# pip install pandas-profiling"
   ]
  },
  {
   "cell_type": "code",
   "execution_count": 53,
   "metadata": {},
   "outputs": [],
   "source": [
    "## import packages:\n",
    "%matplotlib inline\n",
    "import random # library of function for generating random numbers and samples\n",
    "import numpy as np # for vector operations\n",
    "import pandas as pd # for Data Frame methods\n",
    "import matplotlib.pyplot as plt # Two dimensional plotting library\n",
    "import matplotlib as mpl\n",
    "import seaborn as sns #  library for making statistical graphics\n",
    "from scipy import stats #  library of statistical functions\n",
    "import scipy.interpolate as interp #  library for interpolating arrays\n",
    "import pandas_profiling\n",
    "\n",
    "\n",
    "# Set seed for generating psuedo random numbers\n",
    "np.random.seed(123)\n",
    "#\n",
    "# Set up graphics\n",
    "plt.style.use('classic')\n",
    "%matplotlib inline"
   ]
  },
  {
   "cell_type": "markdown",
   "metadata": {},
   "source": [
    "### Reading the Data"
   ]
  },
  {
   "cell_type": "code",
   "execution_count": 45,
   "metadata": {
    "scrolled": false
   },
   "outputs": [],
   "source": [
    "# reading the data into a dataframe using pandas\n",
    "guns = pd.read_csv(\"guns.csv\")"
   ]
  },
  {
   "cell_type": "code",
   "execution_count": 46,
   "metadata": {},
   "outputs": [
    {
     "data": {
      "text/html": [
       "<div>\n",
       "<style scoped>\n",
       "    .dataframe tbody tr th:only-of-type {\n",
       "        vertical-align: middle;\n",
       "    }\n",
       "\n",
       "    .dataframe tbody tr th {\n",
       "        vertical-align: top;\n",
       "    }\n",
       "\n",
       "    .dataframe thead th {\n",
       "        text-align: right;\n",
       "    }\n",
       "</style>\n",
       "<table border=\"1\" class=\"dataframe\">\n",
       "  <thead>\n",
       "    <tr style=\"text-align: right;\">\n",
       "      <th></th>\n",
       "      <th>Unnamed: 0</th>\n",
       "      <th>year</th>\n",
       "      <th>month</th>\n",
       "      <th>intent</th>\n",
       "      <th>police</th>\n",
       "      <th>sex</th>\n",
       "      <th>age</th>\n",
       "      <th>race</th>\n",
       "      <th>hispanic</th>\n",
       "      <th>place</th>\n",
       "      <th>education</th>\n",
       "    </tr>\n",
       "  </thead>\n",
       "  <tbody>\n",
       "    <tr>\n",
       "      <th>0</th>\n",
       "      <td>1</td>\n",
       "      <td>2012</td>\n",
       "      <td>1</td>\n",
       "      <td>Suicide</td>\n",
       "      <td>0</td>\n",
       "      <td>M</td>\n",
       "      <td>34.0</td>\n",
       "      <td>Asian/Pacific Islander</td>\n",
       "      <td>100</td>\n",
       "      <td>Home</td>\n",
       "      <td>4.0</td>\n",
       "    </tr>\n",
       "    <tr>\n",
       "      <th>1</th>\n",
       "      <td>2</td>\n",
       "      <td>2012</td>\n",
       "      <td>1</td>\n",
       "      <td>Suicide</td>\n",
       "      <td>0</td>\n",
       "      <td>F</td>\n",
       "      <td>21.0</td>\n",
       "      <td>White</td>\n",
       "      <td>100</td>\n",
       "      <td>Street</td>\n",
       "      <td>3.0</td>\n",
       "    </tr>\n",
       "    <tr>\n",
       "      <th>2</th>\n",
       "      <td>3</td>\n",
       "      <td>2012</td>\n",
       "      <td>1</td>\n",
       "      <td>Suicide</td>\n",
       "      <td>0</td>\n",
       "      <td>M</td>\n",
       "      <td>60.0</td>\n",
       "      <td>White</td>\n",
       "      <td>100</td>\n",
       "      <td>Other specified</td>\n",
       "      <td>4.0</td>\n",
       "    </tr>\n",
       "    <tr>\n",
       "      <th>3</th>\n",
       "      <td>4</td>\n",
       "      <td>2012</td>\n",
       "      <td>2</td>\n",
       "      <td>Suicide</td>\n",
       "      <td>0</td>\n",
       "      <td>M</td>\n",
       "      <td>64.0</td>\n",
       "      <td>White</td>\n",
       "      <td>100</td>\n",
       "      <td>Home</td>\n",
       "      <td>4.0</td>\n",
       "    </tr>\n",
       "    <tr>\n",
       "      <th>4</th>\n",
       "      <td>5</td>\n",
       "      <td>2012</td>\n",
       "      <td>2</td>\n",
       "      <td>Suicide</td>\n",
       "      <td>0</td>\n",
       "      <td>M</td>\n",
       "      <td>31.0</td>\n",
       "      <td>White</td>\n",
       "      <td>100</td>\n",
       "      <td>Other specified</td>\n",
       "      <td>2.0</td>\n",
       "    </tr>\n",
       "  </tbody>\n",
       "</table>\n",
       "</div>"
      ],
      "text/plain": [
       "   Unnamed: 0  year  month   intent  police sex   age                    race  \\\n",
       "0           1  2012      1  Suicide       0   M  34.0  Asian/Pacific Islander   \n",
       "1           2  2012      1  Suicide       0   F  21.0                   White   \n",
       "2           3  2012      1  Suicide       0   M  60.0                   White   \n",
       "3           4  2012      2  Suicide       0   M  64.0                   White   \n",
       "4           5  2012      2  Suicide       0   M  31.0                   White   \n",
       "\n",
       "   hispanic            place  education  \n",
       "0       100             Home        4.0  \n",
       "1       100           Street        3.0  \n",
       "2       100  Other specified        4.0  \n",
       "3       100             Home        4.0  \n",
       "4       100  Other specified        2.0  "
      ]
     },
     "execution_count": 46,
     "metadata": {},
     "output_type": "execute_result"
    }
   ],
   "source": [
    "# checking the packaging\n",
    "guns.head()"
   ]
  },
  {
   "cell_type": "markdown",
   "metadata": {},
   "source": [
    "# 2. Preparing and Wrangling the Data"
   ]
  },
  {
   "cell_type": "markdown",
   "metadata": {},
   "source": [
    "### Observing the Structure\n",
    "\n",
    "Before cleaning the data, I want to observe some of the features of the data set."
   ]
  },
  {
   "cell_type": "code",
   "execution_count": 3,
   "metadata": {},
   "outputs": [
    {
     "data": {
      "text/plain": [
       "Unnamed: 0      int64\n",
       "year            int64\n",
       "month           int64\n",
       "intent         object\n",
       "police          int64\n",
       "sex            object\n",
       "age           float64\n",
       "race           object\n",
       "hispanic        int64\n",
       "place          object\n",
       "education     float64\n",
       "dtype: object"
      ]
     },
     "execution_count": 3,
     "metadata": {},
     "output_type": "execute_result"
    }
   ],
   "source": [
    "# observing the datatypes of the dataset\n",
    "guns.dtypes"
   ]
  },
  {
   "cell_type": "code",
   "execution_count": 4,
   "metadata": {},
   "outputs": [
    {
     "data": {
      "text/plain": [
       "array(['Suicide', 'Undetermined', 'Accidental', 'Homicide', nan],\n",
       "      dtype=object)"
      ]
     },
     "execution_count": 4,
     "metadata": {},
     "output_type": "execute_result"
    }
   ],
   "source": [
    "# observing the unique values of the 'intent' column\n",
    "guns.intent.unique()"
   ]
  },
  {
   "cell_type": "code",
   "execution_count": 5,
   "metadata": {},
   "outputs": [
    {
     "data": {
      "text/plain": [
       "array(['Asian/Pacific Islander', 'White',\n",
       "       'Native American/Native Alaskan', 'Black', 'Hispanic'],\n",
       "      dtype=object)"
      ]
     },
     "execution_count": 5,
     "metadata": {},
     "output_type": "execute_result"
    }
   ],
   "source": [
    "# observing the unique values of the 'race' column\n",
    "guns.race.unique()"
   ]
  },
  {
   "cell_type": "code",
   "execution_count": 6,
   "metadata": {
    "scrolled": false
   },
   "outputs": [
    {
     "data": {
      "text/plain": [
       "array(['Home', 'Street', 'Other specified', nan, 'Other unspecified',\n",
       "       'Trade/service area', 'Farm', 'Industrial/construction',\n",
       "       'School/instiution', 'Sports', 'Residential institution'],\n",
       "      dtype=object)"
      ]
     },
     "execution_count": 6,
     "metadata": {},
     "output_type": "execute_result"
    }
   ],
   "source": [
    "# observing the unique values of the 'place' column\n",
    "guns.place.unique()"
   ]
  },
  {
   "cell_type": "code",
   "execution_count": 7,
   "metadata": {
    "scrolled": true
   },
   "outputs": [
    {
     "data": {
      "text/plain": [
       "Suicide         63175\n",
       "Homicide        35176\n",
       "Accidental       1639\n",
       "Undetermined      807\n",
       "Name: intent, dtype: int64"
      ]
     },
     "execution_count": 7,
     "metadata": {},
     "output_type": "execute_result"
    }
   ],
   "source": [
    "# looking at the unique value count for intent\n",
    "guns.intent.value_counts()"
   ]
  },
  {
   "cell_type": "code",
   "execution_count": 20,
   "metadata": {},
   "outputs": [
    {
     "data": {
      "text/plain": [
       "2013    33636\n",
       "2014    33599\n",
       "2012    33563\n",
       "Name: year, dtype: int64"
      ]
     },
     "execution_count": 20,
     "metadata": {},
     "output_type": "execute_result"
    }
   ],
   "source": [
    "# looking at the unique value count for year\n",
    "guns.year.value_counts()"
   ]
  },
  {
   "cell_type": "markdown",
   "metadata": {},
   "source": [
    "### Summarizing the Dataframe"
   ]
  },
  {
   "cell_type": "code",
   "execution_count": 8,
   "metadata": {},
   "outputs": [
    {
     "name": "stdout",
     "output_type": "stream",
     "text": [
      "<class 'pandas.core.frame.DataFrame'>\n",
      "RangeIndex: 100798 entries, 0 to 100797\n",
      "Data columns (total 11 columns):\n",
      "Unnamed: 0    100798 non-null int64\n",
      "year          100798 non-null int64\n",
      "month         100798 non-null int64\n",
      "intent        100797 non-null object\n",
      "police        100798 non-null int64\n",
      "sex           100798 non-null object\n",
      "age           100780 non-null float64\n",
      "race          100798 non-null object\n",
      "hispanic      100798 non-null int64\n",
      "place         99414 non-null object\n",
      "education     100745 non-null float64\n",
      "dtypes: float64(2), int64(5), object(4)\n",
      "memory usage: 8.5+ MB\n",
      "None\n"
     ]
    }
   ],
   "source": [
    "print(guns.info())"
   ]
  },
  {
   "cell_type": "code",
   "execution_count": 9,
   "metadata": {},
   "outputs": [
    {
     "data": {
      "text/html": [
       "<div>\n",
       "<style scoped>\n",
       "    .dataframe tbody tr th:only-of-type {\n",
       "        vertical-align: middle;\n",
       "    }\n",
       "\n",
       "    .dataframe tbody tr th {\n",
       "        vertical-align: top;\n",
       "    }\n",
       "\n",
       "    .dataframe thead th {\n",
       "        text-align: right;\n",
       "    }\n",
       "</style>\n",
       "<table border=\"1\" class=\"dataframe\">\n",
       "  <thead>\n",
       "    <tr style=\"text-align: right;\">\n",
       "      <th></th>\n",
       "      <th>Unnamed: 0</th>\n",
       "      <th>year</th>\n",
       "      <th>month</th>\n",
       "      <th>police</th>\n",
       "      <th>age</th>\n",
       "      <th>hispanic</th>\n",
       "      <th>education</th>\n",
       "    </tr>\n",
       "  </thead>\n",
       "  <tbody>\n",
       "    <tr>\n",
       "      <th>count</th>\n",
       "      <td>100798.000000</td>\n",
       "      <td>100798.000000</td>\n",
       "      <td>100798.000000</td>\n",
       "      <td>100798.000000</td>\n",
       "      <td>100780.000000</td>\n",
       "      <td>100798.000000</td>\n",
       "      <td>100745.000000</td>\n",
       "    </tr>\n",
       "    <tr>\n",
       "      <th>mean</th>\n",
       "      <td>50399.500000</td>\n",
       "      <td>2013.000357</td>\n",
       "      <td>6.567601</td>\n",
       "      <td>0.013909</td>\n",
       "      <td>43.857601</td>\n",
       "      <td>114.179607</td>\n",
       "      <td>2.296352</td>\n",
       "    </tr>\n",
       "    <tr>\n",
       "      <th>std</th>\n",
       "      <td>29098.020554</td>\n",
       "      <td>0.816278</td>\n",
       "      <td>3.405609</td>\n",
       "      <td>0.117114</td>\n",
       "      <td>19.496181</td>\n",
       "      <td>61.595734</td>\n",
       "      <td>0.990105</td>\n",
       "    </tr>\n",
       "    <tr>\n",
       "      <th>min</th>\n",
       "      <td>1.000000</td>\n",
       "      <td>2012.000000</td>\n",
       "      <td>1.000000</td>\n",
       "      <td>0.000000</td>\n",
       "      <td>0.000000</td>\n",
       "      <td>100.000000</td>\n",
       "      <td>1.000000</td>\n",
       "    </tr>\n",
       "    <tr>\n",
       "      <th>25%</th>\n",
       "      <td>25200.250000</td>\n",
       "      <td>2012.000000</td>\n",
       "      <td>4.000000</td>\n",
       "      <td>0.000000</td>\n",
       "      <td>27.000000</td>\n",
       "      <td>100.000000</td>\n",
       "      <td>2.000000</td>\n",
       "    </tr>\n",
       "    <tr>\n",
       "      <th>50%</th>\n",
       "      <td>50399.500000</td>\n",
       "      <td>2013.000000</td>\n",
       "      <td>7.000000</td>\n",
       "      <td>0.000000</td>\n",
       "      <td>42.000000</td>\n",
       "      <td>100.000000</td>\n",
       "      <td>2.000000</td>\n",
       "    </tr>\n",
       "    <tr>\n",
       "      <th>75%</th>\n",
       "      <td>75598.750000</td>\n",
       "      <td>2014.000000</td>\n",
       "      <td>9.000000</td>\n",
       "      <td>0.000000</td>\n",
       "      <td>58.000000</td>\n",
       "      <td>100.000000</td>\n",
       "      <td>3.000000</td>\n",
       "    </tr>\n",
       "    <tr>\n",
       "      <th>max</th>\n",
       "      <td>100798.000000</td>\n",
       "      <td>2014.000000</td>\n",
       "      <td>12.000000</td>\n",
       "      <td>1.000000</td>\n",
       "      <td>107.000000</td>\n",
       "      <td>998.000000</td>\n",
       "      <td>5.000000</td>\n",
       "    </tr>\n",
       "  </tbody>\n",
       "</table>\n",
       "</div>"
      ],
      "text/plain": [
       "          Unnamed: 0           year          month         police  \\\n",
       "count  100798.000000  100798.000000  100798.000000  100798.000000   \n",
       "mean    50399.500000    2013.000357       6.567601       0.013909   \n",
       "std     29098.020554       0.816278       3.405609       0.117114   \n",
       "min         1.000000    2012.000000       1.000000       0.000000   \n",
       "25%     25200.250000    2012.000000       4.000000       0.000000   \n",
       "50%     50399.500000    2013.000000       7.000000       0.000000   \n",
       "75%     75598.750000    2014.000000       9.000000       0.000000   \n",
       "max    100798.000000    2014.000000      12.000000       1.000000   \n",
       "\n",
       "                 age       hispanic      education  \n",
       "count  100780.000000  100798.000000  100745.000000  \n",
       "mean       43.857601     114.179607       2.296352  \n",
       "std        19.496181      61.595734       0.990105  \n",
       "min         0.000000     100.000000       1.000000  \n",
       "25%        27.000000     100.000000       2.000000  \n",
       "50%        42.000000     100.000000       2.000000  \n",
       "75%        58.000000     100.000000       3.000000  \n",
       "max       107.000000     998.000000       5.000000  "
      ]
     },
     "execution_count": 9,
     "metadata": {},
     "output_type": "execute_result"
    }
   ],
   "source": [
    "guns.describe()"
   ]
  },
  {
   "cell_type": "markdown",
   "metadata": {},
   "source": [
    "The pandas_profiling package can be used to look at the profile report, however it takes a long time to load so it is commented out of this project."
   ]
  },
  {
   "cell_type": "code",
   "execution_count": 10,
   "metadata": {},
   "outputs": [],
   "source": [
    "# looking at the pandas profile report\n",
    "# guns.profile_report(style={'full_width':True})"
   ]
  },
  {
   "cell_type": "markdown",
   "metadata": {},
   "source": [
    "### Removing NAs and Subsetting the Data"
   ]
  },
  {
   "cell_type": "code",
   "execution_count": 11,
   "metadata": {
    "scrolled": false
   },
   "outputs": [],
   "source": [
    "# removing rows with NA in the documentation\n",
    "guns_modified = guns.dropna()"
   ]
  },
  {
   "cell_type": "code",
   "execution_count": 12,
   "metadata": {},
   "outputs": [],
   "source": [
    "# removing the hispanic column\n",
    "guns_modified = guns_modified.drop(columns=['hispanic'])"
   ]
  },
  {
   "cell_type": "code",
   "execution_count": 13,
   "metadata": {},
   "outputs": [],
   "source": [
    "guns_modified = guns_modified[guns_modified.year == 2013]"
   ]
  },
  {
   "cell_type": "code",
   "execution_count": 14,
   "metadata": {
    "scrolled": true
   },
   "outputs": [
    {
     "data": {
      "text/html": [
       "<div>\n",
       "<style scoped>\n",
       "    .dataframe tbody tr th:only-of-type {\n",
       "        vertical-align: middle;\n",
       "    }\n",
       "\n",
       "    .dataframe tbody tr th {\n",
       "        vertical-align: top;\n",
       "    }\n",
       "\n",
       "    .dataframe thead th {\n",
       "        text-align: right;\n",
       "    }\n",
       "</style>\n",
       "<table border=\"1\" class=\"dataframe\">\n",
       "  <thead>\n",
       "    <tr style=\"text-align: right;\">\n",
       "      <th></th>\n",
       "      <th>Unnamed: 0</th>\n",
       "      <th>year</th>\n",
       "      <th>month</th>\n",
       "      <th>intent</th>\n",
       "      <th>police</th>\n",
       "      <th>sex</th>\n",
       "      <th>age</th>\n",
       "      <th>race</th>\n",
       "      <th>place</th>\n",
       "      <th>education</th>\n",
       "    </tr>\n",
       "  </thead>\n",
       "  <tbody>\n",
       "    <tr>\n",
       "      <th>33563</th>\n",
       "      <td>33564</td>\n",
       "      <td>2013</td>\n",
       "      <td>1</td>\n",
       "      <td>Accidental</td>\n",
       "      <td>0</td>\n",
       "      <td>M</td>\n",
       "      <td>33.0</td>\n",
       "      <td>White</td>\n",
       "      <td>Home</td>\n",
       "      <td>3.0</td>\n",
       "    </tr>\n",
       "    <tr>\n",
       "      <th>33564</th>\n",
       "      <td>33565</td>\n",
       "      <td>2013</td>\n",
       "      <td>1</td>\n",
       "      <td>Suicide</td>\n",
       "      <td>0</td>\n",
       "      <td>M</td>\n",
       "      <td>37.0</td>\n",
       "      <td>Native American/Native Alaskan</td>\n",
       "      <td>Home</td>\n",
       "      <td>2.0</td>\n",
       "    </tr>\n",
       "    <tr>\n",
       "      <th>33565</th>\n",
       "      <td>33566</td>\n",
       "      <td>2013</td>\n",
       "      <td>1</td>\n",
       "      <td>Suicide</td>\n",
       "      <td>0</td>\n",
       "      <td>M</td>\n",
       "      <td>38.0</td>\n",
       "      <td>Native American/Native Alaskan</td>\n",
       "      <td>Home</td>\n",
       "      <td>2.0</td>\n",
       "    </tr>\n",
       "    <tr>\n",
       "      <th>33566</th>\n",
       "      <td>33567</td>\n",
       "      <td>2013</td>\n",
       "      <td>1</td>\n",
       "      <td>Suicide</td>\n",
       "      <td>0</td>\n",
       "      <td>M</td>\n",
       "      <td>27.0</td>\n",
       "      <td>Native American/Native Alaskan</td>\n",
       "      <td>Home</td>\n",
       "      <td>3.0</td>\n",
       "    </tr>\n",
       "    <tr>\n",
       "      <th>33567</th>\n",
       "      <td>33568</td>\n",
       "      <td>2013</td>\n",
       "      <td>1</td>\n",
       "      <td>Suicide</td>\n",
       "      <td>0</td>\n",
       "      <td>M</td>\n",
       "      <td>22.0</td>\n",
       "      <td>Native American/Native Alaskan</td>\n",
       "      <td>Home</td>\n",
       "      <td>2.0</td>\n",
       "    </tr>\n",
       "  </tbody>\n",
       "</table>\n",
       "</div>"
      ],
      "text/plain": [
       "       Unnamed: 0  year  month      intent  police sex   age  \\\n",
       "33563       33564  2013      1  Accidental       0   M  33.0   \n",
       "33564       33565  2013      1     Suicide       0   M  37.0   \n",
       "33565       33566  2013      1     Suicide       0   M  38.0   \n",
       "33566       33567  2013      1     Suicide       0   M  27.0   \n",
       "33567       33568  2013      1     Suicide       0   M  22.0   \n",
       "\n",
       "                                 race place  education  \n",
       "33563                           White  Home        3.0  \n",
       "33564  Native American/Native Alaskan  Home        2.0  \n",
       "33565  Native American/Native Alaskan  Home        2.0  \n",
       "33566  Native American/Native Alaskan  Home        3.0  \n",
       "33567  Native American/Native Alaskan  Home        2.0  "
      ]
     },
     "execution_count": 14,
     "metadata": {},
     "output_type": "execute_result"
    }
   ],
   "source": [
    "guns_modified.head()"
   ]
  },
  {
   "cell_type": "code",
   "execution_count": 15,
   "metadata": {},
   "outputs": [
    {
     "name": "stdout",
     "output_type": "stream",
     "text": [
      "<class 'pandas.core.frame.DataFrame'>\n",
      "Int64Index: 33146 entries, 33563 to 67198\n",
      "Data columns (total 10 columns):\n",
      "Unnamed: 0    33146 non-null int64\n",
      "year          33146 non-null int64\n",
      "month         33146 non-null int64\n",
      "intent        33146 non-null object\n",
      "police        33146 non-null int64\n",
      "sex           33146 non-null object\n",
      "age           33146 non-null float64\n",
      "race          33146 non-null object\n",
      "place         33146 non-null object\n",
      "education     33146 non-null float64\n",
      "dtypes: float64(2), int64(4), object(4)\n",
      "memory usage: 2.8+ MB\n",
      "None\n"
     ]
    }
   ],
   "source": [
    "print(guns_modified.info())"
   ]
  },
  {
   "cell_type": "code",
   "execution_count": 16,
   "metadata": {
    "scrolled": true
   },
   "outputs": [
    {
     "data": {
      "text/html": [
       "<div>\n",
       "<style scoped>\n",
       "    .dataframe tbody tr th:only-of-type {\n",
       "        vertical-align: middle;\n",
       "    }\n",
       "\n",
       "    .dataframe tbody tr th {\n",
       "        vertical-align: top;\n",
       "    }\n",
       "\n",
       "    .dataframe thead th {\n",
       "        text-align: right;\n",
       "    }\n",
       "</style>\n",
       "<table border=\"1\" class=\"dataframe\">\n",
       "  <thead>\n",
       "    <tr style=\"text-align: right;\">\n",
       "      <th></th>\n",
       "      <th>Unnamed: 0</th>\n",
       "      <th>year</th>\n",
       "      <th>month</th>\n",
       "      <th>police</th>\n",
       "      <th>age</th>\n",
       "      <th>education</th>\n",
       "    </tr>\n",
       "  </thead>\n",
       "  <tbody>\n",
       "    <tr>\n",
       "      <th>count</th>\n",
       "      <td>33146.000000</td>\n",
       "      <td>33146.0</td>\n",
       "      <td>33146.000000</td>\n",
       "      <td>33146.000000</td>\n",
       "      <td>33146.000000</td>\n",
       "      <td>33146.000000</td>\n",
       "    </tr>\n",
       "    <tr>\n",
       "      <th>mean</th>\n",
       "      <td>50404.082453</td>\n",
       "      <td>2013.0</td>\n",
       "      <td>6.532402</td>\n",
       "      <td>0.000211</td>\n",
       "      <td>44.029415</td>\n",
       "      <td>2.305738</td>\n",
       "    </tr>\n",
       "    <tr>\n",
       "      <th>std</th>\n",
       "      <td>9697.063004</td>\n",
       "      <td>0.0</td>\n",
       "      <td>3.416799</td>\n",
       "      <td>0.014531</td>\n",
       "      <td>19.464907</td>\n",
       "      <td>0.988204</td>\n",
       "    </tr>\n",
       "    <tr>\n",
       "      <th>min</th>\n",
       "      <td>33564.000000</td>\n",
       "      <td>2013.0</td>\n",
       "      <td>1.000000</td>\n",
       "      <td>0.000000</td>\n",
       "      <td>0.000000</td>\n",
       "      <td>1.000000</td>\n",
       "    </tr>\n",
       "    <tr>\n",
       "      <th>25%</th>\n",
       "      <td>42023.250000</td>\n",
       "      <td>2013.0</td>\n",
       "      <td>4.000000</td>\n",
       "      <td>0.000000</td>\n",
       "      <td>27.000000</td>\n",
       "      <td>2.000000</td>\n",
       "    </tr>\n",
       "    <tr>\n",
       "      <th>50%</th>\n",
       "      <td>50423.500000</td>\n",
       "      <td>2013.0</td>\n",
       "      <td>7.000000</td>\n",
       "      <td>0.000000</td>\n",
       "      <td>42.000000</td>\n",
       "      <td>2.000000</td>\n",
       "    </tr>\n",
       "    <tr>\n",
       "      <th>75%</th>\n",
       "      <td>58799.750000</td>\n",
       "      <td>2013.0</td>\n",
       "      <td>9.000000</td>\n",
       "      <td>0.000000</td>\n",
       "      <td>58.000000</td>\n",
       "      <td>3.000000</td>\n",
       "    </tr>\n",
       "    <tr>\n",
       "      <th>max</th>\n",
       "      <td>67199.000000</td>\n",
       "      <td>2013.0</td>\n",
       "      <td>12.000000</td>\n",
       "      <td>1.000000</td>\n",
       "      <td>107.000000</td>\n",
       "      <td>5.000000</td>\n",
       "    </tr>\n",
       "  </tbody>\n",
       "</table>\n",
       "</div>"
      ],
      "text/plain": [
       "         Unnamed: 0     year         month        police           age  \\\n",
       "count  33146.000000  33146.0  33146.000000  33146.000000  33146.000000   \n",
       "mean   50404.082453   2013.0      6.532402      0.000211     44.029415   \n",
       "std     9697.063004      0.0      3.416799      0.014531     19.464907   \n",
       "min    33564.000000   2013.0      1.000000      0.000000      0.000000   \n",
       "25%    42023.250000   2013.0      4.000000      0.000000     27.000000   \n",
       "50%    50423.500000   2013.0      7.000000      0.000000     42.000000   \n",
       "75%    58799.750000   2013.0      9.000000      0.000000     58.000000   \n",
       "max    67199.000000   2013.0     12.000000      1.000000    107.000000   \n",
       "\n",
       "          education  \n",
       "count  33146.000000  \n",
       "mean       2.305738  \n",
       "std        0.988204  \n",
       "min        1.000000  \n",
       "25%        2.000000  \n",
       "50%        2.000000  \n",
       "75%        3.000000  \n",
       "max        5.000000  "
      ]
     },
     "execution_count": 16,
     "metadata": {},
     "output_type": "execute_result"
    }
   ],
   "source": [
    "guns_modified.describe()"
   ]
  },
  {
   "cell_type": "markdown",
   "metadata": {},
   "source": [
    "# 3. Visualizing the Data\n",
    "\n",
    "Utilizing visualizations, I can answer the posted questions:\n",
    "\n",
    "1. What is the frequency of gun deaths by intent and race in 2013?\n",
    "2. What is the distribution of ages of gun deaths in 2013?\n",
    "3. What is the distribution of ages of gun deaths by race and age in 2013? "
   ]
  },
  {
   "cell_type": "markdown",
   "metadata": {},
   "source": [
    "### Visualizing Frequency of Gun Deaths by Intent and Race"
   ]
  },
  {
   "cell_type": "code",
   "execution_count": 50,
   "metadata": {
    "scrolled": false
   },
   "outputs": [
    {
     "data": {
      "image/png": "[encoded data removed]",
      "text/plain": [
       "<Figure size 432x288 with 1 Axes>"
      ]
     },
     "metadata": {
      "needs_background": "light"
     },
     "output_type": "display_data"
    }
   ],
   "source": [
    "# bar plot by intent\n",
    "gun_intent = guns_modified['intent'].value_counts().plot(kind='bar',\n",
    "                                    title=\"Gun Deaths by Intent (2013)\")\n",
    "gun_intent.set_xlabel(\"Intent\")\n",
    "gun_intent.set_ylabel(\"Frequency\")\n",
    "plt.show()"
   ]
  },
  {
   "cell_type": "code",
   "execution_count": 51,
   "metadata": {},
   "outputs": [
    {
     "data": {
      "image/png": "[encoded data removed]",
      "text/plain": [
       "<Figure size 432x288 with 1 Axes>"
      ]
     },
     "metadata": {
      "needs_background": "light"
     },
     "output_type": "display_data"
    }
   ],
   "source": [
    "# bar plot by race\n",
    "gun_race = guns_modified['race'].value_counts().plot(kind='bar',\n",
    "                                    title=\"Gun Deaths by Race (2013)\")\n",
    "gun_race.set_xlabel(\"Race\")\n",
    "gun_race.set_ylabel(\"Frequency\")\n",
    "plt.show()"
   ]
  },
  {
   "cell_type": "markdown",
   "metadata": {},
   "source": [
    "### Visualizing Age of Gun Deaths"
   ]
  },
  {
   "cell_type": "code",
   "execution_count": 34,
   "metadata": {},
   "outputs": [
    {
     "data": {
      "image/png": "[encoded data removed]",
      "text/plain": [
       "<Figure size 432x288 with 1 Axes>"
      ]
     },
     "metadata": {
      "needs_background": "light"
     },
     "output_type": "display_data"
    }
   ],
   "source": [
    "# histogram by age\n",
    "x = guns_modified['age']\n",
    "num_bins = 10\n",
    "n, bins, patches = plt.hist(x, num_bins, facecolor='blue', alpha=0.5)\n",
    "plt.xlabel('Age')\n",
    "plt.ylabel('Frequency')\n",
    "plt.title(r'Histogram of Age of Gun Deaths (2013)')\n",
    "plt.show()"
   ]
  },
  {
   "cell_type": "code",
   "execution_count": 92,
   "metadata": {
    "scrolled": true
   },
   "outputs": [
    {
     "name": "stderr",
     "output_type": "stream",
     "text": [
      "C:\\Users\\murrayl\\AppData\\Local\\Continuum\\anaconda3\\lib\\site-packages\\seaborn\\categorical.py:3666: UserWarning: The `factorplot` function has been renamed to `catplot`. The original name will be removed in a future release. Please update your code. Note that the default `kind` in `factorplot` (`'point'`) has changed `'strip'` in `catplot`.\n",
      "  warnings.warn(msg)\n"
     ]
    },
    {
     "data": {
      "image/png": "[encoded data removed]",
      "text/plain": [
       "<Figure size 720x432 with 1 Axes>"
      ]
     },
     "metadata": {},
     "output_type": "display_data"
    }
   ],
   "source": [
    "with sns.axes_style(style='ticks'):\n",
    "    g = sns.factorplot(\"race\", \"age\", \"sex\", data=guns_modified, kind=\"box\")\n",
    "    g.set_axis_labels(\"Race\", \"Age\")\n",
    "    g.fig.suptitle(\"Ages of Gun Deaths by Race and Sex (2013)\")\n",
    "    g.fig.set_figheight(6)\n",
    "    g.fig.set_figwidth(10)"
   ]
  },
  {
   "cell_type": "markdown",
   "metadata": {},
   "source": [
    "# 5. Simulation of nonparametric inference of the Median for a quantitive variable\n",
    "\n",
    "The guide by the [Analytics Vidhya Team](https://www.analyticsvidhya.com/blog/2017/11/a-guide-to-conduct-analysis-using-non-parametric-tests/) and the article [\"How to Calculate Nonparametric Statistical Hypothesis Tests in Python\n",
    "\"](https://machinelearningmastery.com/nonparametric-statistical-significance-tests-in-python/) by Jason Brownlee explains that non-parametric tests are used when there is limited or no information available about the population parameters, thus there are no assumptions about the distribution of data."
   ]
  },
  {
   "cell_type": "markdown",
   "metadata": {},
   "source": [
    "### Kruskal-Wallis Test\n",
    "\n",
    "This test is used when dealing with more than 2 independent groups by comparing the median among k populations and determining whether or not there is a difference in distributions. For the following hypothesis, I have selected 5% level of significance:\n",
    "\n",
    "* Null hypthesis ($H_{0}$): There is no sigificant difference between the medians of three independent samples of age from the population of gun deaths.\n",
    "* Alternative hypthesis ($H_{1}$): There is a sigificant difference between the medians of three independent samples of age from the population of gun deaths."
   ]
  },
  {
   "cell_type": "code",
   "execution_count": 59,
   "metadata": {},
   "outputs": [
    {
     "data": {
      "text/plain": [
       "42.0"
      ]
     },
     "execution_count": 59,
     "metadata": {},
     "output_type": "execute_result"
    }
   ],
   "source": [
    "guns_modified.age.median()"
   ]
  },
  {
   "cell_type": "markdown",
   "metadata": {},
   "source": [
    "Rcall the previous histogram of age of gun deaths:"
   ]
  },
  {
   "cell_type": "code",
   "execution_count": 58,
   "metadata": {},
   "outputs": [
    {
     "data": {
      "image/png": "[encoded data removed]",
      "text/plain": [
       "<Figure size 432x288 with 1 Axes>"
      ]
     },
     "metadata": {
      "needs_background": "light"
     },
     "output_type": "display_data"
    }
   ],
   "source": [
    "# histogram by age\n",
    "x = guns_modified['age']\n",
    "num_bins = 10\n",
    "n, bins, patches = plt.hist(x, num_bins, facecolor='blue', alpha=0.5)\n",
    "plt.xlabel('Age')\n",
    "plt.ylabel('Frequency')\n",
    "plt.title(r'Histogram of Age of Gun Deaths (2013)')\n",
    "plt.show()"
   ]
  },
  {
   "cell_type": "markdown",
   "metadata": {},
   "source": [
    "Because the population is 33,146 values, an appropriate sample size is 3,300 values, which is about 10 percent of the data. I will use this number to create three random samples of the median of the age of the population of gun deaths."
   ]
  },
  {
   "cell_type": "code",
   "execution_count": 70,
   "metadata": {},
   "outputs": [
    {
     "data": {
      "text/plain": [
       "42.0"
      ]
     },
     "execution_count": 70,
     "metadata": {},
     "output_type": "execute_result"
    }
   ],
   "source": [
    "data_sample = guns_modified.age[np.random.choice(guns_modified.age.index, 3300)]\n",
    "data_sample.median()"
   ]
  },
  {
   "cell_type": "code",
   "execution_count": 71,
   "metadata": {},
   "outputs": [
    {
     "data": {
      "text/plain": [
       "41.0"
      ]
     },
     "execution_count": 71,
     "metadata": {},
     "output_type": "execute_result"
    }
   ],
   "source": [
    "resample_1 = data_sample.sample(3300, replace=True)\n",
    "resample_1.median()"
   ]
  },
  {
   "cell_type": "code",
   "execution_count": 72,
   "metadata": {
    "scrolled": true
   },
   "outputs": [
    {
     "data": {
      "text/plain": [
       "41.0"
      ]
     },
     "execution_count": 72,
     "metadata": {},
     "output_type": "execute_result"
    }
   ],
   "source": [
    "resample_2 = data_sample.sample(3300, replace=True)\n",
    "resample_2.median()"
   ]
  },
  {
   "cell_type": "code",
   "execution_count": 73,
   "metadata": {
    "scrolled": true
   },
   "outputs": [
    {
     "data": {
      "text/plain": [
       "pandas.core.series.Series"
      ]
     },
     "execution_count": 73,
     "metadata": {},
     "output_type": "execute_result"
    }
   ],
   "source": [
    "type(data_sample)"
   ]
  },
  {
   "cell_type": "code",
   "execution_count": 74,
   "metadata": {},
   "outputs": [
    {
     "name": "stdout",
     "output_type": "stream",
     "text": [
      "42.0\n",
      "41.81181818181818\n",
      "40.5\n",
      "43.0\n"
     ]
    }
   ],
   "source": [
    "#np.random.seed(111)\n",
    "resamples_medians = pd.Series(index = np.arange(33000))\n",
    "for i in range(33000):\n",
    "    resamples_medians[i] = data_sample.sample(3300, replace=True).median()\n",
    "    \n",
    "print(resamples_medians.median())\n",
    "print(resamples_medians.mean())\n",
    "print(resamples_medians.quantile(0.025))\n",
    "print(resamples_medians.quantile(0.975))"
   ]
  },
  {
   "cell_type": "code",
   "execution_count": 75,
   "metadata": {},
   "outputs": [
    {
     "data": {
      "text/plain": [
       "42.0"
      ]
     },
     "execution_count": 75,
     "metadata": {},
     "output_type": "execute_result"
    }
   ],
   "source": [
    "data_sample.median()"
   ]
  },
  {
   "cell_type": "code",
   "execution_count": 76,
   "metadata": {},
   "outputs": [
    {
     "data": {
      "text/plain": [
       "array([40.5, 43. ])"
      ]
     },
     "execution_count": 76,
     "metadata": {},
     "output_type": "execute_result"
    }
   ],
   "source": [
    "conf_int = np.percentile(resamples_medians, [2.5, 97.5]) # The middle 95% interval\n",
    "conf_int\n",
    "\n",
    "# can check quantiles using np.percentile\n",
    "# shows on x-axis 2.5 percent of the area\n",
    "# whole area adds up 1\n",
    "# 100 percent area under the curve"
   ]
  },
  {
   "cell_type": "code",
   "execution_count": 77,
   "metadata": {},
   "outputs": [
    {
     "data": {
      "image/png": "[encoded data removed]",
      "text/plain": [
       "<Figure size 432x288 with 1 Axes>"
      ]
     },
     "metadata": {
      "needs_background": "light"
     },
     "output_type": "display_data"
    }
   ],
   "source": [
    "sns.kdeplot(resamples_medians)\n",
    "for endpoint in conf_int:\n",
    "    plt.axvline(endpoint, color='red')\n",
    "# np.percentile gives two numbers that represent the lower and upper intervals\n",
    "# for the first loop of the for loop, plot the red vertical line at 40.5\n",
    "# for the second loop, plot the red verticle line at 43.0"
   ]
  },
  {
   "cell_type": "markdown",
   "metadata": {},
   "source": [
    "In order to test our random sample medians for significance, I need to calculate the test statistic, H. The [kruskal()](https://docs.scipy.org/doc/scipy/reference/generated/scipy.stats.kruskal.html) function can find H and the p-value to determine if the results are statistically significant."
   ]
  },
  {
   "cell_type": "code",
   "execution_count": 82,
   "metadata": {},
   "outputs": [
    {
     "name": "stdout",
     "output_type": "stream",
     "text": [
      "Statistics=0.112, p=0.946\n",
      "Same distributions (fail to reject null hypothesis)\n"
     ]
    }
   ],
   "source": [
    "# Kruskal-Wallis H-test\n",
    "from numpy.random import seed\n",
    "from numpy.random import randn\n",
    "from scipy.stats import kruskal\n",
    "\n",
    "# seed the random number generator\n",
    "seed(1)\n",
    "\n",
    "# we can use the same samples we generated before to compare\n",
    "stat, p = kruskal(data_sample , resample_1 , resample_2)\n",
    "print('Statistics=%.3f, p=%.3f' % (stat, p))\n",
    "\n",
    "# interpret\n",
    "alpha = 0.05\n",
    "if p > alpha:\n",
    "\tprint('Same distributions (fail to reject null hypothesis)')\n",
    "else:\n",
    "\tprint('Different distributions (reject null hypothesis)')"
   ]
  },
  {
   "cell_type": "markdown",
   "metadata": {},
   "source": [
    "# 6. Conclusion\n",
    "\n",
    "I examined the gun deaths that occurred in America during the year 2013, utilizing cleaned data from the CDC.\n",
    "\n",
    "* I observed that the frequency of gun deaths by intent and race in 2013 utilizing barplot visualizations. I found that suicide was the intent of gun deaths most often, while accidental and undetermined were the intent least often. Further, I found that race of people by gun deaths had the highest frequency of white people, while Native American/Alaskan people died by gun deaths least often.\n",
    "\n",
    "* The distribution of ages of gun deaths in 2013 looked approximately normal, according to the histogram.\n",
    "\n",
    "* The boxplots of ages of gun deaths in 2013 by race and sex generally had overlapping boxes and somewhat similar center lines, indicating similar interquartile ranges and medians, respectively. The exception is that both men and women in the white race category had a higher median than other races. The whiskers of the boxplots had varying lengths, indicating a wide variation of age range among the data. Indicative by the dots outside of the whiskers, black and hispanic had more outliers of age than other races for gun deaths.\n",
    "\n",
    "* According to the Kruskal-Wallis Test that was performed, the null hypothesis is accepted and there is no sigificant difference between the medians of three independent samples of age from the population of gun deaths."
   ]
  }
 ],
 "metadata": {
  "kernelspec": {
   "display_name": "Python 3",
   "language": "python",
   "name": "python3"
  },
  "language_info": {
   "codemirror_mode": {
    "name": "ipython",
    "version": 3
   },
   "file_extension": ".py",
   "mimetype": "text/x-python",
   "name": "python",
   "nbconvert_exporter": "python",
   "pygments_lexer": "ipython3",
   "version": "3.7.3"
  }
 },
 "nbformat": 4,
 "nbformat_minor": 2
}
